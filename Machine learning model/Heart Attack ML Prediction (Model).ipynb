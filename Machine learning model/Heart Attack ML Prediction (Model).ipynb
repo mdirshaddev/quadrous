{
 "cells": [
  {
   "cell_type": "code",
   "execution_count": 1,
   "id": "green-detection",
   "metadata": {},
   "outputs": [],
   "source": [
    "import pickle"
   ]
  },
  {
   "cell_type": "code",
   "execution_count": 2,
   "id": "studied-termination",
   "metadata": {},
   "outputs": [],
   "source": [
    "model = pickle.load(open('./model_svc.pkl', 'rb'))"
   ]
  },
  {
   "cell_type": "markdown",
   "id": "direct-shakespeare",
   "metadata": {},
   "source": [
    "### A function to test our model"
   ]
  },
  {
   "cell_type": "code",
   "execution_count": 3,
   "id": "political-cutting",
   "metadata": {},
   "outputs": [],
   "source": [
    "def UsingModel(X_data):\n",
    "    '''\n",
    "    params\n",
    "    ------\n",
    "        X_data: It is 2 Dimensional array of various inputs\n",
    "        Our function returns nothing but we want it to print the prediction.\n",
    "    '''\n",
    "    from sklearn.preprocessing import MinMaxScaler\n",
    "    minmax = MinMaxScaler()\n",
    "    X_data = minmax.fit_transform(X_data)\n",
    "    output = model.predict(X_data)\n",
    "    if output == 0:\n",
    "        print(\"You have a chance of Heart attack\")\n",
    "    else:\n",
    "        print(\"You have no chance of Heart attack\")\n",
    "    return"
   ]
  },
  {
   "cell_type": "code",
   "execution_count": 4,
   "id": "worse-resource",
   "metadata": {},
   "outputs": [
    {
     "name": "stdout",
     "output_type": "stream",
     "text": [
      "You have no chance of Heart attack\n"
     ]
    }
   ],
   "source": [
    "X_1 = [[25, 1, 289, 140, 145]]\n",
    "UsingModel(X_1)"
   ]
  }
 ],
 "metadata": {
  "kernelspec": {
   "display_name": "Python 3",
   "language": "python",
   "name": "python3"
  },
  "language_info": {
   "codemirror_mode": {
    "name": "ipython",
    "version": 3
   },
   "file_extension": ".py",
   "mimetype": "text/x-python",
   "name": "python",
   "nbconvert_exporter": "python",
   "pygments_lexer": "ipython3",
   "version": "3.7.8"
  }
 },
 "nbformat": 4,
 "nbformat_minor": 5
}
